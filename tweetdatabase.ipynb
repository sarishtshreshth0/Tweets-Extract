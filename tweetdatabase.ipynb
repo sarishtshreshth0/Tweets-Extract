{
 "cells": [
  {
   "cell_type": "code",
   "execution_count": 35,
   "id": "80305b28-c142-4c90-ad11-470063139031",
   "metadata": {},
   "outputs": [],
   "source": [
    "tweets = [{\"user\":1,\"tweet\":\"Im afraid to even take out a smelly lunch\",\"year\":2020},\n",
    "         {\"user\":2,\"tweet\":\"When Republicans are talking to deficit hawks\",\"year\":2021}, \n",
    "          {\"user\":3,\"tweet\":\"no longer meetup opps \",\"year\":2023},\n",
    "           {\"user\":4,\"tweet\":\"i'm watching LOTR w/ my kids and their reaction\",\"year\":2019},\n",
    "           {\"user\":5,\"tweet\":\"Your periodic reminder that if you do a thing and you do it well\",\"year\":2022},\n",
    "           {\"user\":6,\"tweet\":\"Going forward, I am opposed to any and all US Worldcon bids.\",\"year\":2017},\n",
    "           {\"user\":7,\"tweet\":\"lot i agree thet taught me\",\"year\":2018},\n",
    "                           ]"
   ]
  },
  {
   "cell_type": "code",
   "execution_count": 36,
   "id": "df8fadc9-27bf-432b-9cb6-45d5dce32ce1",
   "metadata": {},
   "outputs": [
    {
     "data": {
      "text/plain": [
       "'Im afraid to even take out a smelly lunch'"
      ]
     },
     "execution_count": 36,
     "metadata": {},
     "output_type": "execute_result"
    }
   ],
   "source": [
    "tweets[0][\"tweet\"]"
   ]
  },
  {
   "cell_type": "code",
   "execution_count": 37,
   "id": "ac1cefec-3dd5-40ee-8cfb-9e59fee0ba4a",
   "metadata": {},
   "outputs": [
    {
     "name": "stdout",
     "output_type": "stream",
     "text": [
      "Im afraid to even take out a smelly lunch\n",
      "When Republicans are talking to deficit hawks\n",
      "no longer meetup opps \n",
      "i'm watching LOTR w/ my kids and their reaction\n",
      "Your periodic reminder that if you do a thing and you do it well\n",
      "Going forward, I am opposed to any and all US Worldcon bids.\n",
      "lot i agree thet taught me\n"
     ]
    }
   ],
   "source": [
    "for i in range(len(tweets)):\n",
    "    if tweets[i][\"tweet\"]:\n",
    "        print(tweets[i][\"tweet\"])"
   ]
  },
  {
   "cell_type": "code",
   "execution_count": null,
   "id": "52d88f80-d841-46d2-b31b-73a0ff22033f",
   "metadata": {},
   "outputs": [],
   "source": []
  },
  {
   "cell_type": "code",
   "execution_count": null,
   "id": "7491d94d-0fac-4bbc-9ad6-5b31ffeb01ea",
   "metadata": {},
   "outputs": [],
   "source": []
  }
 ],
 "metadata": {
  "kernelspec": {
   "display_name": "Python 3 (ipykernel)",
   "language": "python",
   "name": "python3"
  },
  "language_info": {
   "codemirror_mode": {
    "name": "ipython",
    "version": 3
   },
   "file_extension": ".py",
   "mimetype": "text/x-python",
   "name": "python",
   "nbconvert_exporter": "python",
   "pygments_lexer": "ipython3",
   "version": "3.10.8"
  }
 },
 "nbformat": 4,
 "nbformat_minor": 5
}
